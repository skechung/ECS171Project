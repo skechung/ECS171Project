{
 "cells": [
  {
   "cell_type": "code",
   "execution_count": 1,
   "metadata": {},
   "outputs": [],
   "source": [
    "import pandas as pd"
   ]
  },
  {
   "cell_type": "code",
   "execution_count": 2,
   "metadata": {},
   "outputs": [],
   "source": [
    "df = pd.read_csv(\"CA_Accidents_Dec20_1.csv\")"
   ]
  },
  {
   "cell_type": "code",
   "execution_count": 3,
   "metadata": {},
   "outputs": [],
   "source": [
    "# mapping wind directions to numerical value\n",
    "\n",
    "df.loc[(df['Wind_Direction'] == \"North\"), \"Wind_Direction\"] = 0\n",
    "df.loc[(df['Wind_Direction'] == \"NNE\"), \"Wind_Direction\"] = 1\n",
    "df.loc[(df['Wind_Direction'] == \"NE\"), \"Wind_Direction\"] = 2\n",
    "df.loc[(df['Wind_Direction'] == \"ENE\"), \"Wind_Direction\"] = 3\n",
    "df.loc[(df['Wind_Direction'] == \"East\"), \"Wind_Direction\"] = 4\n",
    "df.loc[(df['Wind_Direction'] == \"ESE\"), \"Wind_Direction\"] = 5\n",
    "df.loc[(df['Wind_Direction'] == \"SE\"), \"Wind_Direction\"] = 6\n",
    "df.loc[(df['Wind_Direction'] == \"SSE\"), \"Wind_Direction\"] = 7\n",
    "df.loc[(df['Wind_Direction'] == \"South\"), \"Wind_Direction\"] = 8\n",
    "df.loc[(df['Wind_Direction'] == \"SSW\"), \"Wind_Direction\"] = 9\n",
    "df.loc[(df['Wind_Direction'] == \"SW\"), \"Wind_Direction\"] = 10\n",
    "df.loc[(df['Wind_Direction'] == \"WSW\"), \"Wind_Direction\"] = 11\n",
    "df.loc[(df['Wind_Direction'] == \"West\"), \"Wind_Direction\"] = 12\n",
    "df.loc[(df['Wind_Direction'] == \"WNW\"), \"Wind_Direction\"] = 13\n",
    "df.loc[(df['Wind_Direction'] == \"NW\"), \"Wind_Direction\"] = 14\n",
    "df.loc[(df['Wind_Direction'] == \"NNW\"), \"Wind_Direction\"] = 15\n",
    "df.loc[(df['Wind_Direction'] == \"CALM\"), \"Wind_Direction\"] = 16\n",
    "df.loc[(df['Wind_Direction'] == \"Variable\"), \"Wind_Direction\"] = 17\n",
    "df.loc[(df['Wind_Direction'] == \"VAR\"), \"Wind_Direction\"] = 17\n"
   ]
  },
  {
   "cell_type": "code",
   "execution_count": 4,
   "metadata": {},
   "outputs": [],
   "source": [
    "# replace all boolean values by 0 and 1\n",
    "df.replace(False, 0,inplace=True)\n",
    "df.replace(True, 1, inplace=True)"
   ]
  },
  {
   "cell_type": "code",
   "execution_count": 5,
   "metadata": {},
   "outputs": [],
   "source": [
    "# replace Day by 1 and Night by 0\n",
    "df['Sunrise_Sunset'].replace('Day', 1, inplace=True)\n",
    "df['Sunrise_Sunset'].replace('Night', 0, inplace=True)"
   ]
  },
  {
   "cell_type": "code",
   "execution_count": 6,
   "metadata": {},
   "outputs": [],
   "source": [
    "# convert time \n",
    "df['Start_Time'] = pd.to_datetime(df['Start_Time'], format='%Y-%m-%d %H:%M:%S')\n",
    "df['End_Time'] = pd.to_datetime(df['End_Time'], format='%Y-%m-%d %H:%M:%S')\n",
    "df['Weather_Timestamp'] = pd.to_datetime(df['Weather_Timestamp'], format='%Y-%m-%d %H:%M:%S')"
   ]
  },
  {
   "cell_type": "code",
   "execution_count": 7,
   "metadata": {},
   "outputs": [],
   "source": [
    "# add duration in mins\n",
    "df['duration_in_mins'] = (df['End_Time'] - df['Start_Time']).dt.total_seconds()/60"
   ]
  },
  {
   "cell_type": "code",
   "execution_count": 8,
   "metadata": {},
   "outputs": [],
   "source": [
    "# add weekday, starts on Monday\n",
    "df['weekday'] = df['Start_Time'].dt.weekday"
   ]
  },
  {
   "cell_type": "code",
   "execution_count": 9,
   "metadata": {},
   "outputs": [],
   "source": [
    "# you can add as many cols relating to date as you like\n",
    "# https://pandas.pydata.org/docs/reference/api/pandas.Series.dt.day_of_week.html"
   ]
  },
  {
   "cell_type": "code",
   "execution_count": 10,
   "metadata": {},
   "outputs": [],
   "source": [
    "df.to_csv(\"CA_Accidents_Dec20_2.csv\", index=False)"
   ]
  }
 ],
 "metadata": {
  "kernelspec": {
   "display_name": "Python 3",
   "language": "python",
   "name": "python3"
  },
  "language_info": {
   "codemirror_mode": {
    "name": "ipython",
    "version": 3
   },
   "file_extension": ".py",
   "mimetype": "text/x-python",
   "name": "python",
   "nbconvert_exporter": "python",
   "pygments_lexer": "ipython3",
   "version": "3.6.9"
  }
 },
 "nbformat": 4,
 "nbformat_minor": 5
}
